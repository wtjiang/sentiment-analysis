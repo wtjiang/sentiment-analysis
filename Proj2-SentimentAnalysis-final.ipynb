{
 "cells": [
  {
   "cell_type": "code",
   "execution_count": 4,
   "metadata": {
    "collapsed": true
   },
   "outputs": [],
   "source": [
    "import numpy as np\n",
    "import pandas as pd\n",
    "import os\n",
    "import sklearn\n",
    "from sklearn.model_selection import cross_val_score\n",
    "from sklearn import tree\n",
    "\n",
    "from sklearn.tree import DecisionTreeClassifier\n",
    "from sklearn import model_selection"
   ]
  },
  {
   "cell_type": "markdown",
   "metadata": {},
   "source": [
    "# Reading Data"
   ]
  },
  {
   "cell_type": "code",
   "execution_count": 5,
   "metadata": {
    "collapsed": true
   },
   "outputs": [],
   "source": [
    "def segmentWords(s): \n",
    "    return s.split()\n",
    "\n",
    "def readFile(fileName):\n",
    "    # Function for reading file\n",
    "    # input: filename as string\n",
    "    # output: contents of file as list containing single words\n",
    "    contents = []\n",
    "    f = open(fileName)\n",
    "    for line in f:\n",
    "        contents.append(line)\n",
    "    f.close()\n",
    "    result = segmentWords('\\n'.join(contents))\n",
    "    return result"
   ]
  },
  {
   "cell_type": "markdown",
   "metadata": {},
   "source": [
    "#### Create a Dataframe containing the counts of each word in a file"
   ]
  },
  {
   "cell_type": "code",
   "execution_count": 6,
   "metadata": {
    "collapsed": true
   },
   "outputs": [],
   "source": [
    "d = []\n",
    "\n",
    "for c in os.listdir(\"data_training\"):\n",
    "    directory = \"data_training/\" + c\n",
    "    for file in os.listdir(directory):\n",
    "        words = readFile(directory + \"/\" + file)\n",
    "        e = {x:words.count(x) for x in words}\n",
    "        e['__FileID__'] = file\n",
    "        e['__CLASS__'] = c\n",
    "        d.append(e)"
   ]
  },
  {
   "cell_type": "markdown",
   "metadata": {},
   "source": [
    "Create a dataframe from d - make sure to fill all the nan values with zeros.\n",
    "\n",
    "References:\n",
    "\n",
    "https://pandas.pydata.org/pandas-docs/stable/generated/pandas.DataFrame.html\n",
    "https://pandas.pydata.org/pandas-docs/stable/generated/pandas.DataFrame.fillna.html\n"
   ]
  },
  {
   "cell_type": "code",
   "execution_count": 7,
   "metadata": {
    "collapsed": true
   },
   "outputs": [],
   "source": [
    "df = pd.DataFrame.from_dict(data=d)\n",
    "df = df.fillna(value = 0)\n"
   ]
  },
  {
   "cell_type": "markdown",
   "metadata": {},
   "source": [
    "#### Split data into training and validation set "
   ]
  },
  {
   "cell_type": "markdown",
   "metadata": {
    "collapsed": true
   },
   "source": [
    "* Sample 80% of your dataframe to be the training data\n",
    "\n",
    "* Let the remaining 20% be the validation data (you can filter out the indicies of the original dataframe that weren't selected for the training data)\n",
    "\n",
    "References:\n",
    "\n",
    "https://pandas.pydata.org/pandas-docs/stable/generated/pandas.DataFrame.sample.html\n",
    "https://pandas.pydata.org/pandas-docs/stable/generated/pandas.DataFrame.drop.html"
   ]
  },
  {
   "cell_type": "code",
   "execution_count": 8,
   "metadata": {
    "collapsed": true
   },
   "outputs": [],
   "source": [
    "df_train = df.sample(frac=0.8)\n",
    "df_valid = df.drop(df_train.index)"
   ]
  },
  {
   "cell_type": "markdown",
   "metadata": {},
   "source": [
    "* Split the dataframe for both training and validation data into x and y dataframes - where y contains the labels and x contains the words\n",
    "\n",
    "References:\n",
    "\n",
    "https://pandas.pydata.org/pandas-docs/stable/generated/pandas.DataFrame.drop.html"
   ]
  },
  {
   "cell_type": "code",
   "execution_count": 9,
   "metadata": {
    "collapsed": true
   },
   "outputs": [],
   "source": [
    "train_x = df_train.drop(labels =['__FileID__','__CLASS__'], axis = 1)\n",
    "train_y = df_train['__CLASS__']\n",
    "\n",
    "valid_x = df_valid.drop(labels =['__FileID__','__CLASS__'], axis = 1)\n",
    "valid_y = df_valid['__CLASS__']"
   ]
  },
  {
   "cell_type": "markdown",
   "metadata": {},
   "source": [
    "# Logistic Regression"
   ]
  },
  {
   "cell_type": "markdown",
   "metadata": {},
   "source": [
    "#### Basic Logistic Regression\n",
    "* Use sklearn's linear_model.LogisticRegression() to create your model.\n",
    "* Fit the data and labels with your model.\n",
    "* Score your model with the same data and labels.\n",
    "\n",
    "References:\n",
    "\n",
    "http://scikit-learn.org/stable/modules/generated/sklearn.linear_model.LogisticRegression.html"
   ]
  },
  {
   "cell_type": "code",
   "execution_count": 10,
   "metadata": {},
   "outputs": [
    {
     "data": {
      "text/plain": [
       "1.0"
      ]
     },
     "execution_count": 10,
     "metadata": {},
     "output_type": "execute_result"
    }
   ],
   "source": [
    "from sklearn.linear_model import LogisticRegression\n",
    "from sklearn.model_selection import cross_val_score\n",
    "\n",
    "#Prediction for training data\n",
    "logreg = LogisticRegression()\n",
    "logreg.fit(train_x, train_y)\n",
    "logreg.score(train_x, train_y)"
   ]
  },
  {
   "cell_type": "code",
   "execution_count": 11,
   "metadata": {},
   "outputs": [
    {
     "name": "stdout",
     "output_type": "stream",
     "text": [
      "[ 0.63636364  0.75757576  0.65625     0.78125     0.78125     0.78125\n",
      "  0.9375      0.65625     0.67741935  0.90322581]\n",
      "average score: 0.7568334555229718\n"
     ]
    }
   ],
   "source": [
    "#cross-validation\n",
    "scores = cross_val_score(logreg, valid_x, valid_y, cv=10)\n",
    "print(scores)\n",
    "print('average score: {}'.format(scores.mean()))"
   ]
  },
  {
   "cell_type": "markdown",
   "metadata": {},
   "source": [
    "Given the test accuracy of 100% vs. the average validation accuracy of 75.9%, it is very clear that there is a case of overfitting. "
   ]
  },
  {
   "cell_type": "markdown",
   "metadata": {},
   "source": [
    "#### Changing Parameters"
   ]
  },
  {
   "cell_type": "code",
   "execution_count": 12,
   "metadata": {},
   "outputs": [
    {
     "name": "stdout",
     "output_type": "stream",
     "text": [
      "C = 0.001, penalty = l1, Train score = 0.514,  Test score = 0.447\n",
      "C = 0.010, penalty = l1, Train score = 0.684,  Test score = 0.675\n",
      "C = 0.100, penalty = l1, Train score = 0.902,  Test score = 0.822\n",
      "C = 1.000, penalty = l1, Train score = 1.000,  Test score = 0.828\n",
      "C = 0.001, penalty = l2, Train score = 0.869,  Test score = 0.809\n",
      "C = 0.010, penalty = l2, Train score = 0.993,  Test score = 0.853\n",
      "C = 0.100, penalty = l2, Train score = 1.000,  Test score = 0.866\n",
      "C = 1.000, penalty = l2, Train score = 1.000,  Test score = 0.866\n"
     ]
    }
   ],
   "source": [
    "for p in ['l1', 'l2']:\n",
    "    for c in [0.001, 0.01, 0.1, 1]:\n",
    "        lr_param = LogisticRegression(C = c, penalty = p)\n",
    "        lr_param.fit(train_x, train_y)\n",
    "        print(\"C = \" + str(format(c, '.3f')) + \", penalty = \" + str(p) + \", Train score = \" + \n",
    "              str(format(lr_param.score(train_x,train_y), '.3f'))\n",
    "             + \",  Test score = \" + str(format(lr_param.score(valid_x,valid_y), '.3f')))"
   ]
  },
  {
   "cell_type": "markdown",
   "metadata": {},
   "source": [
    "#### Feature Selection\n",
    "* In the backward stepsize selection method, you can remove coefficients and the corresponding x columns, where the coefficient is more than a particular amount away from the mean - you can choose how far from the mean is reasonable.\n",
    "\n",
    "References:\n",
    "\n",
    "https://pandas.pydata.org/pandas-docs/stable/generated/pandas.DataFrame.html#\n",
    "https://pandas.pydata.org/pandas-docs/stable/generated/pandas.DataFrame.sample.html\n",
    "https://pandas.pydata.org/pandas-docs/stable/generated/pandas.DataFrame.drop.html\n",
    "http://scikit-learn.org/stable/modules/generated/sklearn.linear_model.LogisticRegression.html\n",
    "https://docs.scipy.org/doc/numpy-1.13.0/reference/generated/numpy.where.html\n",
    "https://docs.scipy.org/doc/numpy-1.13.0/reference/generated/numpy.std.html\n",
    "https://docs.scipy.org/doc/numpy-1.13.0/reference/generated/numpy.mean.html"
   ]
  },
  {
   "cell_type": "code",
   "execution_count": 13,
   "metadata": {},
   "outputs": [
    {
     "name": "stdout",
     "output_type": "stream",
     "text": [
      "C = 0.001, penalty = l1, Train score = 0.514,  Test score = 0.447\n",
      "C = 0.010, penalty = l1, Train score = 0.696,  Test score = 0.666\n",
      "C = 0.100, penalty = l1, Train score = 0.900,  Test score = 0.819\n",
      "C = 1.000, penalty = l1, Train score = 1.000,  Test score = 0.825\n",
      "C = 0.001, penalty = l2, Train score = 0.863,  Test score = 0.784\n",
      "C = 0.010, penalty = l2, Train score = 0.993,  Test score = 0.866\n",
      "C = 0.100, penalty = l2, Train score = 1.000,  Test score = 0.863\n",
      "C = 1.000, penalty = l2, Train score = 1.000,  Test score = 0.844\n"
     ]
    }
   ],
   "source": [
    "weights = (np.array(logreg.coef_[0])-np.mean(logreg.coef_[0]))/np.std(logreg.coef_[0])\n",
    "train_x_bss = train_x.iloc[:, np.where(np.abs(weights)>1)[0].tolist()]\n",
    "test_x_bss = valid_x.iloc[:, np.where(np.abs(weights)>1)[0].tolist()]\n",
    "\n",
    "for p in ['l1', 'l2']:\n",
    "    for c in [0.001, 0.01, 0.1, 1]:\n",
    "        lr3 = LogisticRegression(C=c, penalty=p)\n",
    "        lr3.fit(train_x_bss, train_y)\n",
    "        print(\"C = \" + str(format(c, '.3f')) + \", penalty = \" + str(p) + \", Train score = \" + \n",
    "                  str(format(lr3.score(train_x_bss, train_y), '.3f'))\n",
    "                 + \",  Test score = \" + str(format(lr3.score(test_x_bss, valid_y), '.3f')))"
   ]
  },
  {
   "cell_type": "markdown",
   "metadata": {},
   "source": [
    "How did you select which features to remove? Why did that reduce overfitting?"
   ]
  },
  {
   "cell_type": "markdown",
   "metadata": {
    "collapsed": true
   },
   "source": [
    "Features were removed based on weight. Based on the results seen above, C = 0.010, and penalty = l2 proved to perform well and decrease overfitting on the training set. "
   ]
  },
  {
   "cell_type": "markdown",
   "metadata": {},
   "source": [
    "# Single Decision Tree"
   ]
  },
  {
   "cell_type": "markdown",
   "metadata": {},
   "source": [
    "#### Basic Decision Tree\n",
    "\n",
    "* Initialize your model as a decision tree with sklearn.\n",
    "* Fit the data and labels to the model.\n",
    "\n",
    "References:\n",
    "\n",
    "http://scikit-learn.org/stable/modules/generated/sklearn.tree.DecisionTreeClassifier.html\n"
   ]
  },
  {
   "cell_type": "code",
   "execution_count": 14,
   "metadata": {},
   "outputs": [
    {
     "name": "stdout",
     "output_type": "stream",
     "text": [
      "Train accuracy: 1.0\n",
      "Test accuracy: 0.603125\n"
     ]
    }
   ],
   "source": [
    "dtree = DecisionTreeClassifier() \n",
    "dtree = dtree.fit(train_x, train_y)\n",
    "print(\"Train accuracy: \" + str(dtree.score(train_x, train_y)))\n",
    "print(\"Test accuracy: \" + str(dtree.score(valid_x, valid_y)))"
   ]
  },
  {
   "cell_type": "markdown",
   "metadata": {},
   "source": [
    "#### Changing Parameters\n",
    "* To test out which value is optimal for a particular parameter, you can either loop through various values or look into sklearn.model_selection.GridSearchCV\n",
    "\n",
    "References:\n",
    "\n",
    "\n",
    "http://scikit-learn.org/stable/modules/generated/sklearn.model_selection.GridSearchCV.html\n",
    "http://scikit-learn.org/stable/modules/generated/sklearn.tree.DecisionTreeClassifier.html"
   ]
  },
  {
   "cell_type": "markdown",
   "metadata": {},
   "source": [
    "How did you choose which parameters to change and what value to give to them? Feel free to show a plot."
   ]
  },
  {
   "cell_type": "code",
   "execution_count": 15,
   "metadata": {},
   "outputs": [
    {
     "name": "stderr",
     "output_type": "stream",
     "text": [
      "/home/alex/anaconda3/lib/python3.6/site-packages/numpy/core/fromnumeric.py:57: FutureWarning: reshape is deprecated and will raise in a subsequent release. Please use .values.reshape(...) instead\n",
      "  return getattr(obj, method)(*args, **kwds)\n"
     ]
    }
   ],
   "source": [
    "c = np.shape(train_y)\n",
    "r = np.shape(train_y)\n",
    "train_y_reshape = np.reshape(train_y, (c))\n",
    "\n",
    "params = {\"max_leaf_nodes\": [50,100,150,200]}\n",
    "gscv = model_selection.GridSearchCV(dtree, params)\n",
    "gscv = gscv.fit(train_x.values, train_y_reshape.values.reshape(c))"
   ]
  },
  {
   "cell_type": "code",
   "execution_count": 16,
   "metadata": {},
   "outputs": [
    {
     "name": "stderr",
     "output_type": "stream",
     "text": [
      "/home/alex/anaconda3/lib/python3.6/site-packages/sklearn/utils/deprecation.py:122: FutureWarning: You are accessing a training score ('mean_train_score'), which will not be available by default any more in 0.21. If you need training scores, please set return_train_score=True\n",
      "  warnings.warn(*warn_args, **warn_kwargs)\n",
      "/home/alex/anaconda3/lib/python3.6/site-packages/sklearn/utils/deprecation.py:122: FutureWarning: You are accessing a training score ('split0_train_score'), which will not be available by default any more in 0.21. If you need training scores, please set return_train_score=True\n",
      "  warnings.warn(*warn_args, **warn_kwargs)\n",
      "/home/alex/anaconda3/lib/python3.6/site-packages/sklearn/utils/deprecation.py:122: FutureWarning: You are accessing a training score ('split1_train_score'), which will not be available by default any more in 0.21. If you need training scores, please set return_train_score=True\n",
      "  warnings.warn(*warn_args, **warn_kwargs)\n",
      "/home/alex/anaconda3/lib/python3.6/site-packages/sklearn/utils/deprecation.py:122: FutureWarning: You are accessing a training score ('split2_train_score'), which will not be available by default any more in 0.21. If you need training scores, please set return_train_score=True\n",
      "  warnings.warn(*warn_args, **warn_kwargs)\n",
      "/home/alex/anaconda3/lib/python3.6/site-packages/sklearn/utils/deprecation.py:122: FutureWarning: You are accessing a training score ('std_train_score'), which will not be available by default any more in 0.21. If you need training scores, please set return_train_score=True\n",
      "  warnings.warn(*warn_args, **warn_kwargs)\n"
     ]
    },
    {
     "data": {
      "text/plain": [
       "{'mean_fit_time': array([ 6.8609492 ,  7.68731435,  8.21607272,  8.18915423]),\n",
       " 'mean_score_time': array([ 0.0274121 ,  0.02619664,  0.02625505,  0.02632125]),\n",
       " 'mean_test_score': array([ 0.63828125,  0.6453125 ,  0.64140625,  0.63984375]),\n",
       " 'mean_train_score': array([ 0.91483601,  0.99843689,  1.        ,  1.        ]),\n",
       " 'param_max_leaf_nodes': masked_array(data = [50 100 150 200],\n",
       "              mask = [False False False False],\n",
       "        fill_value = ?),\n",
       " 'params': [{'max_leaf_nodes': 50},\n",
       "  {'max_leaf_nodes': 100},\n",
       "  {'max_leaf_nodes': 150},\n",
       "  {'max_leaf_nodes': 200}],\n",
       " 'rank_test_score': array([4, 1, 2, 3], dtype=int32),\n",
       " 'split0_test_score': array([ 0.64485981,  0.64485981,  0.64252336,  0.64953271]),\n",
       " 'split0_train_score': array([ 0.90492958,  0.99765258,  1.        ,  1.        ]),\n",
       " 'split1_test_score': array([ 0.64084507,  0.64553991,  0.65023474,  0.64319249]),\n",
       " 'split1_train_score': array([ 0.91217799,  0.99765808,  1.        ,  1.        ]),\n",
       " 'split2_test_score': array([ 0.62910798,  0.64553991,  0.6314554 ,  0.62676056]),\n",
       " 'split2_train_score': array([ 0.92740047,  1.        ,  1.        ,  1.        ]),\n",
       " 'std_fit_time': array([ 0.16942132,  0.11975662,  0.53929729,  0.60141962]),\n",
       " 'std_score_time': array([  2.43155737e-03,   7.48660491e-05,   4.42085068e-04,\n",
       "          3.88070279e-04]),\n",
       " 'std_test_score': array([ 0.00668314,  0.00032085,  0.00770145,  0.00959632]),\n",
       " 'std_train_score': array([ 0.00936426,  0.00110529,  0.        ,  0.        ])}"
      ]
     },
     "execution_count": 16,
     "metadata": {},
     "output_type": "execute_result"
    }
   ],
   "source": [
    "gscv.cv_results_"
   ]
  },
  {
   "cell_type": "code",
   "execution_count": 17,
   "metadata": {},
   "outputs": [],
   "source": [
    "x = [50,100,150,200]\n",
    "y = [tree.DecisionTreeClassifier(max_depth=k).fit(train_x,train_y_reshape).score(valid_x,valid_y) for k in x]"
   ]
  },
  {
   "cell_type": "code",
   "execution_count": 21,
   "metadata": {},
   "outputs": [
    {
     "data": {
      "image/png": "[encoded data removed]",
      "text/plain": [
       "<matplotlib.figure.Figure at 0x7f5640b58d68>"
      ]
     },
     "metadata": {},
     "output_type": "display_data"
    }
   ],
   "source": [
    "import matplotlib.pyplot as plt\n",
    "plt.scatter(x,y)\n",
    "plt.show()"
   ]
  },
  {
   "cell_type": "markdown",
   "metadata": {},
   "source": [
    "Why is a single decision tree so prone to overfitting?"
   ]
  },
  {
   "cell_type": "raw",
   "metadata": {
    "collapsed": true
   },
   "source": [
    "A single decision tree is so prone to overfitting because it has many branches that learn the training set too well, optimizing training set error at the cost of test set error. When the decision tree is faced with fitting a more generalized test set, its branches do not fit the test set as well as the training set, as they have been too specifically tailored to the training set."
   ]
  },
  {
   "cell_type": "markdown",
   "metadata": {},
   "source": [
    "# Random Forest Classifier"
   ]
  },
  {
   "cell_type": "markdown",
   "metadata": {},
   "source": [
    "#### Basic Random Forest\n",
    "\n",
    "* Use sklearn's ensemble.RandomForestClassifier() to create your model.\n",
    "* Fit the data and labels with your model.\n",
    "* Score your model with the same data and labels.\n",
    "\n",
    "References:\n",
    "\n",
    "http://scikit-learn.org/stable/modules/generated/sklearn.ensemble.RandomForestClassifier.html\n"
   ]
  },
  {
   "cell_type": "code",
   "execution_count": 19,
   "metadata": {},
   "outputs": [
    {
     "name": "stdout",
     "output_type": "stream",
     "text": [
      "Default score for training data: 0.9921875\n",
      "Default score for test data: 0.65\n"
     ]
    }
   ],
   "source": [
    "from sklearn.ensemble import RandomForestClassifier\n",
    "clf = RandomForestClassifier()\n",
    "clf.fit(train_x, train_y)\n",
    "print(\"Default score for training data: \" + str(clf.score(train_x, train_y)))\n",
    "print(\"Default score for test data: \" + str(clf.score(valid_x, valid_y)))"
   ]
  },
  {
   "cell_type": "markdown",
   "metadata": {},
   "source": [
    "#### Changing Parameters"
   ]
  },
  {
   "cell_type": "code",
   "execution_count": 20,
   "metadata": {},
   "outputs": [
    {
     "name": "stdout",
     "output_type": "stream",
     "text": [
      "Default score for training data: 1.0\n",
      "Default score for test data: 0.815625\n"
     ]
    }
   ],
   "source": [
    "clf.set_params(n_estimators=400, criterion=\"entropy\")\n",
    "clf.fit(train_x, train_y)\n",
    "print(\"Default score for training data: \" + str(clf.score(train_x, train_y)))\n",
    "print(\"Default score for test data: \" + str(clf.score(valid_x, valid_y)))"
   ]
  },
  {
   "cell_type": "markdown",
   "metadata": {},
   "source": [
    "What parameters did you choose to change and why?"
   ]
  },
  {
   "cell_type": "markdown",
   "metadata": {
    "collapsed": true
   },
   "source": [
    "I set n_estimators to 400 because this creates more estimators, and the model at the end that merges all the different estimators will be better because outliers will disappear and the best features are selected. I also chose to use information gain (\"entropy\") to measure the quality of splits because it is better for attributes that occur in classes. Changing the other parameters did not appear to affect the scores significantly (changes from the default value)."
   ]
  },
  {
   "cell_type": "markdown",
   "metadata": {},
   "source": [
    "How does a random forest classifier prevent overfitting better than a single decision tree?"
   ]
  },
  {
   "cell_type": "markdown",
   "metadata": {
    "collapsed": true
   },
   "source": [
    "A random forest classifier prevents overfitting better than a single decision tree because each tree in the forest gets different data, so the features that are detected will be different at the end. Bootstrapping aggregation is when points that are repeated in the data are weighted more when the trees are merged together. This minimizes outliers and prevents overfitting. Each tree also randomly selects features, so the random forest classifier will take the average of all the selections and have the best set of features. This also makes the random forest classifier stronger, so it will not overfit as much as a single decision tree."
   ]
  },
  {
   "cell_type": "code",
   "execution_count": null,
   "metadata": {
    "collapsed": true
   },
   "outputs": [],
   "source": []
  }
 ],
 "metadata": {
  "kernelspec": {
   "display_name": "Python 3",
   "language": "python",
   "name": "python3"
  },
  "language_info": {
   "codemirror_mode": {
    "name": "ipython",
    "version": 3
   },
   "file_extension": ".py",
   "mimetype": "text/x-python",
   "name": "python",
   "nbconvert_exporter": "python",
   "pygments_lexer": "ipython3",
   "version": "3.6.1"
  }
 },
 "nbformat": 4,
 "nbformat_minor": 1
}
